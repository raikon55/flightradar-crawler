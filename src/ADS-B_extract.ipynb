{
 "cells": [
  {
   "cell_type": "code",
   "execution_count": 1,
   "metadata": {},
   "outputs": [],
   "source": [
    "import requests\n",
    "from bs4 import BeautifulSoup\n",
    "import time\n",
    "import json"
   ]
  },
  {
   "cell_type": "code",
   "execution_count": 2,
   "metadata": {},
   "outputs": [],
   "source": [
    "def get_flight() -> dict:\n",
    "    ignore = [\"full_count\", \"version\", \"stats\"]\n",
    "    url = \"https://data-live.flightradar24.com/zones/fcgi/feed.js?bounds=59.09,52.64,-58.77,-47.71&faa=1&mlat=1&flarm=1&adsb=1&gnd=1&air=1&vehicles=1&estimated=1&maxage=7200&gliders=1&stats=1\"\n",
    "\n",
    "    # Request with fake header, otherwise you will get an 403 HTTP error\n",
    "    r = requests.get(url, headers={'User-Agent': 'Mozilla/5.0'})\n",
    "\n",
    "    # Parse the JSON\n",
    "    data = r.json()\n",
    "    for x in ignore:\n",
    "        data.pop(x)\n",
    "\n",
    "    return data"
   ]
  },
  {
   "cell_type": "code",
   "execution_count": 1,
   "metadata": {},
   "outputs": [],
   "source": [
    "def parser(data: dict) -> dict:\n",
    "    clean_data = {}\n",
    "    \n",
    "    # Parameters returned of request\n",
    "    fields = [\"Model-S\", \"Latitude\", \"Longitude\", 3, 4, 5, \"Transponder-code\", \"Feeder-Station-Code\", \"Aircraft-Model\", \"Aircraft-Registration\", \"Timestamp\", \"From\", \"To\", \"Flight-Code\", 14, 15, \"Airline-Flight-Code\", 17, \"Airline\"]\n",
    "\n",
    "    # Build dict to write in JSON\n",
    "    for key in data.keys():\n",
    "        clean_data[key] = {}\n",
    "        for field, value in zip(fields, data[key]):\n",
    "            clean_data[key].update({field:value})\n",
    "\n",
    "    return clean_data"
   ]
  },
  {
   "cell_type": "code",
   "execution_count": null,
   "metadata": {},
   "outputs": [],
   "source": [
    "dataframe = {}\n",
    "\n",
    "with open(\"ads-b_data.json\", \"w+\") as ads_b_data:\n",
    "    while len(dataframe) < 10:\n",
    "        try:\n",
    "            data = get_flight()\n",
    "            dataframe.update(parser(data))\n",
    "            time.sleep(1)\n",
    "        except KeyboardInterrupt:\n",
    "            exit(0)\n",
    "\n",
    "json.dump(dataframe, ads_b_data, indent=2, separators=(\",\", \":\"))"
   ]
  },
  {
   "cell_type": "code",
   "execution_count": null,
   "metadata": {},
   "outputs": [],
   "source": [
    "test = {'a': 1, 'b': 2, 'c': 3}\n",
    "len(test)"
   ]
  }
 ],
 "metadata": {
  "kernelspec": {
   "display_name": "Python 3",
   "language": "python",
   "name": "python3"
  },
  "language_info": {
   "codemirror_mode": {
    "name": "ipython",
    "version": 3
   },
   "file_extension": ".py",
   "mimetype": "text/x-python",
   "name": "python",
   "nbconvert_exporter": "python",
   "pygments_lexer": "ipython3",
   "version": "3.7.4"
  }
 },
 "nbformat": 4,
 "nbformat_minor": 2
}
