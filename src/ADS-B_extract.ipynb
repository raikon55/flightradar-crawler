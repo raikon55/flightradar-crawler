{
 "cells": [
  {
   "cell_type": "code",
   "execution_count": 18,
   "metadata": {},
   "outputs": [],
   "source": [
    "import requests\n",
    "import time\n",
    "import json\n",
    "import csv\n",
    "import os\n",
    "from datetime import timedelta, datetime"
   ]
  },
  {
   "cell_type": "code",
   "execution_count": 2,
   "metadata": {},
   "outputs": [],
   "source": [
    "def get_flight() -> dict:\n",
    "    ignore = [\"full_count\", \"version\", \"stats\"]\n",
    "    url = \"https://data-live.flightradar24.com/zones/fcgi/feed.js?bounds=67.24,-28.43,-461.73,461.73&faa=1&satellite=1&mlat=1&flarm=1&adsb=1&gnd=1&air=1&vehicles=1&estimated=1&maxage=14400&gliders=1&stats=1\"\n",
    "\n",
    "    # Request with fake header, otherwise you will get an 403 HTTP error\n",
    "    r = requests.get(url, headers={'User-Agent': 'Mozilla/5.0'})\n",
    "\n",
    "    # Parse the JSON\n",
    "    data = r.json()\n",
    "    for x in ignore:\n",
    "        data.pop(x)\n",
    "\n",
    "    return data"
   ]
  },
  {
   "cell_type": "code",
   "execution_count": 3,
   "metadata": {},
   "outputs": [],
   "source": [
    "def parser(data: dict) -> dict:\n",
    "    clean_data = {}\n",
    "    \n",
    "    # Parameters returned of request\n",
    "    fields = [\"Model-S\",\n",
    "              \"Latitude\",\n",
    "              \"Longitude\",\n",
    "              3, 4, 5,\n",
    "              \"Transponder\",\n",
    "              \"Feeder-Station-Code\",\n",
    "              \"Aircraft-Model\",\n",
    "              \"Aircraft-Registration\",\n",
    "              \"Timestamp\",\n",
    "              \"From\",\n",
    "              \"To\",\n",
    "              \"Flight-Code\",\n",
    "              14, 15,\n",
    "              \"Airline-Flight-Code\",\n",
    "              17,\n",
    "              \"Airline\"]\n",
    "\n",
    "    # Build dict to write in JSON\n",
    "    for key in data.keys():\n",
    "        clean_data[key] = {}\n",
    "        for field, value in zip(fields, data[key]):\n",
    "            clean_data[key].update({field:value})\n",
    "\n",
    "    return clean_data"
   ]
  },
  {
   "cell_type": "code",
   "execution_count": 42,
   "metadata": {},
   "outputs": [],
   "source": [
    "def save_data(data: dict, file_type: str = 'json'):\n",
    "    \n",
    "    # Format file name\n",
    "    file_type = file_type.lower()\n",
    "    filename = f'ads-b_data.{file_type}'\n",
    "    header = True\n",
    "\n",
    "    if os.path.isfile(filename):\n",
    "        header = False\n",
    "\n",
    "    # Write to selected file\n",
    "    with open(filename, 'a') as ads_b_data:\n",
    "        if file_type == 'json':\n",
    "            json.dump(dataframe, ads_b_data, indent=2, separators=(',', ':'))\n",
    "\n",
    "        elif file_type == 'csv':\n",
    "            fieldnames = [\"Model-S\", \"Latitude\", \"Longitude\", 3, 4, 5, \"Transponder\", \"Feeder-Station-Code\",\n",
    "              \"Aircraft-Model\", \"Aircraft-Registration\", \"Timestamp\", \"From\", \"To\", \"Flight-Code\", 14, 15,\n",
    "              \"Airline-Flight-Code\", 17, \"Airline\"]\n",
    "\n",
    "            writer = csv.DictWriter(ads_b_data, fieldnames=fieldnames)\n",
    "\n",
    "            if header:\n",
    "                writer.writeheader()\n",
    "\n",
    "            for keys in data.keys():\n",
    "                writer.writerow(data[keys])"
   ]
  },
  {
   "cell_type": "code",
   "execution_count": 43,
   "metadata": {},
   "outputs": [],
   "source": [
    "dataframe = {}\n",
    "\n",
    "duration = timedelta(minutes=5)\n",
    "start_time = datetime.utcnow()\n",
    "\n",
    "while (datetime.utcnow() - start_time) <= duration:\n",
    "    try:\n",
    "        data = get_flight()\n",
    "        dataframe.update(parser(data))\n",
    "\n",
    "        if len(dataframe) > 1000:\n",
    "            save_data(dataframe, 'csv')\n",
    "            dataframe.clear()\n",
    "\n",
    "    except KeyboardInterrupt:\n",
    "        break\n",
    "else:\n",
    "    save_data(dataframe, 'csv')"
   ]
  }
 ],
 "metadata": {
  "kernelspec": {
   "display_name": "Python 3",
   "language": "python",
   "name": "python3"
  },
  "language_info": {
   "codemirror_mode": {
    "name": "ipython",
    "version": 3
   },
   "file_extension": ".py",
   "mimetype": "text/x-python",
   "name": "python",
   "nbconvert_exporter": "python",
   "pygments_lexer": "ipython3",
   "version": "3.7.4"
  }
 },
 "nbformat": 4,
 "nbformat_minor": 2
}
